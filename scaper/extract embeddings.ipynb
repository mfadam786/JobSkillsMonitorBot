{
 "cells": [
  {
   "cell_type": "code",
   "execution_count": 16,
   "id": "essential-garage",
   "metadata": {},
   "outputs": [],
   "source": [
    "import pandas as pd\n",
    "from pathlib import Path\n",
    "import unicodedata\n",
    "import ast\n",
    "import numpy as np\n",
    "import re\n",
    "import nltk\n",
    "from nltk.tokenize import sent_tokenize, word_tokenize\n",
    "from gensim.models import Word2Vec\n",
    "from nltk.corpus import stopwords\n",
    "\n",
    "from gensim.models.phrases import Phrases, Phraser\n",
    "from gensim.models import phrases\n",
    "from gensim.models.phrases import Phrases\n"
   ]
  },
  {
   "cell_type": "code",
   "execution_count": 12,
   "id": "incident-occurrence",
   "metadata": {},
   "outputs": [],
   "source": [
    "\n",
    "scraped_df = pd.read_csv(\"data/scraped.csv\", comment=\"#\")\n",
    "def fix_content(x):\n",
    "    \n",
    "    if type(x) != type(np.nan):\n",
    "      \n",
    "        arr = []\n",
    "        for i in ast.literal_eval(x):\n",
    "            arr.append(unicodedata.normalize(\"NFKD\", i).strip())\n",
    "        return \" \".join(np.asarray(arr).flatten().tolist())\n",
    "scraped_df[\"fixed_content\"] = scraped_df[\"main_content\"].transform(fix_content)\n"
   ]
  },
  {
   "cell_type": "code",
   "execution_count": 13,
   "id": "constitutional-focus",
   "metadata": {},
   "outputs": [],
   "source": [
    "scraped_df = scraped_df.dropna(subset=[\"fixed_content\"])\n",
    "scraped_df[\"sent_tokens\"] = scraped_df[\"fixed_content\"].transform(lambda x : sent_tokenize(x))\n"
   ]
  },
  {
   "cell_type": "code",
   "execution_count": 14,
   "id": "bacterial-trade",
   "metadata": {},
   "outputs": [],
   "source": [
    "sent_corp = [\n",
    "]\n",
    "\n",
    "stop_words = set(stopwords.words(\"english\"))\n",
    "\n",
    "for i in scraped_df[\"sent_tokens\"].values:\n",
    "    for sentence in i:\n",
    "        \n",
    "        sent = word_tokenize(sentence)\n",
    "        sent_clean = []\n",
    "        for word in sent:\n",
    "            if word.isalpha() and word not in stop_words:\n",
    "                sent_clean.append(word.lower())\n",
    "       # word.lower() for word in sent if word.isalpha() and word not in stop_words\n",
    "        sent_corp.append(sent_clean)\n",
    "    "
   ]
  },
  {
   "cell_type": "code",
   "execution_count": 17,
   "id": "helpful-beaver",
   "metadata": {},
   "outputs": [],
   "source": [
    "\n",
    "bigram = Phrases(sent_corp, min_count=3)\n",
    "model = Word2Vec(bigram[sent_corp], min_count=3,size=50,workers=24, iter=20, sg = 1)"
   ]
  },
  {
   "cell_type": "code",
   "execution_count": 18,
   "id": "entitled-substance",
   "metadata": {},
   "outputs": [
    {
     "name": "stderr",
     "output_type": "stream",
     "text": [
      "C:\\Users\\sloth\\anaconda3\\envs\\scraper\\lib\\site-packages\\ipykernel_launcher.py:1: DeprecationWarning: Call to deprecated `__getitem__` (Method will be removed in 4.0.0, use self.wv.__getitem__() instead).\n",
      "  \"\"\"Entry point for launching an IPython kernel.\n"
     ]
    },
    {
     "data": {
      "text/plain": [
       "array([ 2.6560023e-01, -1.3731033e-01, -1.4839627e-01,  4.1556400e-01,\n",
       "       -4.4139194e-01,  4.4802096e-02,  1.7223275e-01, -7.3185319e-01,\n",
       "        7.3508990e-01,  1.7251581e-01,  1.4088465e-01,  2.1541110e-01,\n",
       "       -1.6922945e-01, -7.2398525e-01,  1.0623134e-01,  2.0987061e-01,\n",
       "        1.6849807e-01,  4.0910104e-01, -2.2871189e-01, -3.3036336e-01,\n",
       "       -1.4138111e-01, -5.2373976e-01,  5.8905765e-02, -7.2255290e-01,\n",
       "       -5.2235234e-01, -2.0720920e-02,  6.2328917e-01,  8.6584312e-01,\n",
       "        3.6268649e-01,  2.3185274e-01,  2.9492956e-01,  9.2652208e-01,\n",
       "        3.3616542e-04,  9.4199300e-01, -1.1989325e+00, -2.8840727e-01,\n",
       "       -1.6758710e+00, -4.1712311e-01,  5.7717764e-01, -6.5499151e-01,\n",
       "        6.1614688e-02, -8.0617806e-03, -3.6846256e-01, -1.6497169e-01,\n",
       "        1.1718041e+00,  7.2874314e-01,  2.6308152e-01, -4.4640204e-01,\n",
       "       -6.4097947e-01,  1.4066935e+00], dtype=float32)"
      ]
     },
     "execution_count": 18,
     "metadata": {},
     "output_type": "execute_result"
    }
   ],
   "source": [
    "model[\"web_developer\"]"
   ]
  },
  {
   "cell_type": "code",
   "execution_count": 24,
   "id": "wireless-criterion",
   "metadata": {},
   "outputs": [],
   "source": [
    "model.wv?"
   ]
  },
  {
   "cell_type": "code",
   "execution_count": 19,
   "id": "caring-banner",
   "metadata": {},
   "outputs": [],
   "source": [
    "model.save(\"models/word2vec_bi_updated.model\")"
   ]
  },
  {
   "cell_type": "code",
   "execution_count": null,
   "id": "visible-wealth",
   "metadata": {},
   "outputs": [],
   "source": []
  },
  {
   "cell_type": "code",
   "execution_count": 27,
   "id": "dominican-feature",
   "metadata": {},
   "outputs": [],
   "source": [
    "soft_skills = pd.read_csv(\"data/cleaned/soft_skills.csv\")"
   ]
  },
  {
   "cell_type": "code",
   "execution_count": 25,
   "id": "amber-philip",
   "metadata": {
    "scrolled": true
   },
   "outputs": [
    {
     "name": "stdout",
     "output_type": "stream",
     "text": [
      "[=-------------------------------------------------] 3.1% 23.4/758.5MB downloaded"
     ]
    },
    {
     "name": "stderr",
     "output_type": "stream",
     "text": [
      "IOPub message rate exceeded.\n",
      "The notebook server will temporarily stop sending output\n",
      "to the client in order to avoid crashing it.\n",
      "To change this limit, set the config variable\n",
      "`--NotebookApp.iopub_msg_rate_limit`.\n",
      "\n",
      "Current values:\n",
      "NotebookApp.iopub_msg_rate_limit=1000.0 (msgs/sec)\n",
      "NotebookApp.rate_limit_window=3.0 (secs)\n",
      "\n"
     ]
    },
    {
     "name": "stdout",
     "output_type": "stream",
     "text": [
      "[===-----------------------------------------------] 7.6% 57.3/758.5MB downloaded"
     ]
    },
    {
     "name": "stderr",
     "output_type": "stream",
     "text": [
      "IOPub message rate exceeded.\n",
      "The notebook server will temporarily stop sending output\n",
      "to the client in order to avoid crashing it.\n",
      "To change this limit, set the config variable\n",
      "`--NotebookApp.iopub_msg_rate_limit`.\n",
      "\n",
      "Current values:\n",
      "NotebookApp.iopub_msg_rate_limit=1000.0 (msgs/sec)\n",
      "NotebookApp.rate_limit_window=3.0 (secs)\n",
      "\n"
     ]
    },
    {
     "name": "stdout",
     "output_type": "stream",
     "text": [
      "[======--------------------------------------------] 12.1% 91.7/758.5MB downloaded"
     ]
    },
    {
     "name": "stderr",
     "output_type": "stream",
     "text": [
      "IOPub message rate exceeded.\n",
      "The notebook server will temporarily stop sending output\n",
      "to the client in order to avoid crashing it.\n",
      "To change this limit, set the config variable\n",
      "`--NotebookApp.iopub_msg_rate_limit`.\n",
      "\n",
      "Current values:\n",
      "NotebookApp.iopub_msg_rate_limit=1000.0 (msgs/sec)\n",
      "NotebookApp.rate_limit_window=3.0 (secs)\n",
      "\n"
     ]
    },
    {
     "name": "stdout",
     "output_type": "stream",
     "text": [
      "[========------------------------------------------] 16.3% 123.6/758.5MB downloaded"
     ]
    },
    {
     "name": "stderr",
     "output_type": "stream",
     "text": [
      "IOPub message rate exceeded.\n",
      "The notebook server will temporarily stop sending output\n",
      "to the client in order to avoid crashing it.\n",
      "To change this limit, set the config variable\n",
      "`--NotebookApp.iopub_msg_rate_limit`.\n",
      "\n",
      "Current values:\n",
      "NotebookApp.iopub_msg_rate_limit=1000.0 (msgs/sec)\n",
      "NotebookApp.rate_limit_window=3.0 (secs)\n",
      "\n"
     ]
    },
    {
     "name": "stdout",
     "output_type": "stream",
     "text": [
      "[==========----------------------------------------] 20.8% 158.1/758.5MB downloaded"
     ]
    },
    {
     "name": "stderr",
     "output_type": "stream",
     "text": [
      "IOPub message rate exceeded.\n",
      "The notebook server will temporarily stop sending output\n",
      "to the client in order to avoid crashing it.\n",
      "To change this limit, set the config variable\n",
      "`--NotebookApp.iopub_msg_rate_limit`.\n",
      "\n",
      "Current values:\n",
      "NotebookApp.iopub_msg_rate_limit=1000.0 (msgs/sec)\n",
      "NotebookApp.rate_limit_window=3.0 (secs)\n",
      "\n"
     ]
    },
    {
     "name": "stdout",
     "output_type": "stream",
     "text": [
      "[============--------------------------------------] 25.6% 193.9/758.5MB downloaded"
     ]
    },
    {
     "name": "stderr",
     "output_type": "stream",
     "text": [
      "IOPub message rate exceeded.\n",
      "The notebook server will temporarily stop sending output\n",
      "to the client in order to avoid crashing it.\n",
      "To change this limit, set the config variable\n",
      "`--NotebookApp.iopub_msg_rate_limit`.\n",
      "\n",
      "Current values:\n",
      "NotebookApp.iopub_msg_rate_limit=1000.0 (msgs/sec)\n",
      "NotebookApp.rate_limit_window=3.0 (secs)\n",
      "\n"
     ]
    },
    {
     "name": "stdout",
     "output_type": "stream",
     "text": [
      "[==============------------------------------------] 29.9% 226.8/758.5MB downloaded"
     ]
    },
    {
     "name": "stderr",
     "output_type": "stream",
     "text": [
      "IOPub message rate exceeded.\n",
      "The notebook server will temporarily stop sending output\n",
      "to the client in order to avoid crashing it.\n",
      "To change this limit, set the config variable\n",
      "`--NotebookApp.iopub_msg_rate_limit`.\n",
      "\n",
      "Current values:\n",
      "NotebookApp.iopub_msg_rate_limit=1000.0 (msgs/sec)\n",
      "NotebookApp.rate_limit_window=3.0 (secs)\n",
      "\n"
     ]
    },
    {
     "name": "stdout",
     "output_type": "stream",
     "text": [
      "[=================---------------------------------] 34.2% 259.1/758.5MB downloaded"
     ]
    },
    {
     "name": "stderr",
     "output_type": "stream",
     "text": [
      "IOPub message rate exceeded.\n",
      "The notebook server will temporarily stop sending output\n",
      "to the client in order to avoid crashing it.\n",
      "To change this limit, set the config variable\n",
      "`--NotebookApp.iopub_msg_rate_limit`.\n",
      "\n",
      "Current values:\n",
      "NotebookApp.iopub_msg_rate_limit=1000.0 (msgs/sec)\n",
      "NotebookApp.rate_limit_window=3.0 (secs)\n",
      "\n"
     ]
    },
    {
     "name": "stdout",
     "output_type": "stream",
     "text": [
      "[===================-------------------------------] 38.8% 294.1/758.5MB downloaded"
     ]
    },
    {
     "name": "stderr",
     "output_type": "stream",
     "text": [
      "IOPub message rate exceeded.\n",
      "The notebook server will temporarily stop sending output\n",
      "to the client in order to avoid crashing it.\n",
      "To change this limit, set the config variable\n",
      "`--NotebookApp.iopub_msg_rate_limit`.\n",
      "\n",
      "Current values:\n",
      "NotebookApp.iopub_msg_rate_limit=1000.0 (msgs/sec)\n",
      "NotebookApp.rate_limit_window=3.0 (secs)\n",
      "\n"
     ]
    },
    {
     "name": "stdout",
     "output_type": "stream",
     "text": [
      "[=====================-----------------------------] 43.3% 328.6/758.5MB downloaded"
     ]
    },
    {
     "name": "stderr",
     "output_type": "stream",
     "text": [
      "IOPub message rate exceeded.\n",
      "The notebook server will temporarily stop sending output\n",
      "to the client in order to avoid crashing it.\n",
      "To change this limit, set the config variable\n",
      "`--NotebookApp.iopub_msg_rate_limit`.\n",
      "\n",
      "Current values:\n",
      "NotebookApp.iopub_msg_rate_limit=1000.0 (msgs/sec)\n",
      "NotebookApp.rate_limit_window=3.0 (secs)\n",
      "\n"
     ]
    },
    {
     "name": "stdout",
     "output_type": "stream",
     "text": [
      "[=======================---------------------------] 47.8% 363.0/758.5MB downloaded"
     ]
    },
    {
     "name": "stderr",
     "output_type": "stream",
     "text": [
      "IOPub message rate exceeded.\n",
      "The notebook server will temporarily stop sending output\n",
      "to the client in order to avoid crashing it.\n",
      "To change this limit, set the config variable\n",
      "`--NotebookApp.iopub_msg_rate_limit`.\n",
      "\n",
      "Current values:\n",
      "NotebookApp.iopub_msg_rate_limit=1000.0 (msgs/sec)\n",
      "NotebookApp.rate_limit_window=3.0 (secs)\n",
      "\n"
     ]
    },
    {
     "name": "stdout",
     "output_type": "stream",
     "text": [
      "[==========================------------------------] 52.4% 397.5/758.5MB downloaded"
     ]
    },
    {
     "name": "stderr",
     "output_type": "stream",
     "text": [
      "IOPub message rate exceeded.\n",
      "The notebook server will temporarily stop sending output\n",
      "to the client in order to avoid crashing it.\n",
      "To change this limit, set the config variable\n",
      "`--NotebookApp.iopub_msg_rate_limit`.\n",
      "\n",
      "Current values:\n",
      "NotebookApp.iopub_msg_rate_limit=1000.0 (msgs/sec)\n",
      "NotebookApp.rate_limit_window=3.0 (secs)\n",
      "\n"
     ]
    },
    {
     "name": "stdout",
     "output_type": "stream",
     "text": [
      "[============================----------------------] 56.9% 431.6/758.5MB downloaded"
     ]
    },
    {
     "name": "stderr",
     "output_type": "stream",
     "text": [
      "IOPub message rate exceeded.\n",
      "The notebook server will temporarily stop sending output\n",
      "to the client in order to avoid crashing it.\n",
      "To change this limit, set the config variable\n",
      "`--NotebookApp.iopub_msg_rate_limit`.\n",
      "\n",
      "Current values:\n",
      "NotebookApp.iopub_msg_rate_limit=1000.0 (msgs/sec)\n",
      "NotebookApp.rate_limit_window=3.0 (secs)\n",
      "\n"
     ]
    },
    {
     "name": "stdout",
     "output_type": "stream",
     "text": [
      "[==============================--------------------] 61.9% 469.3/758.5MB downloaded"
     ]
    },
    {
     "name": "stderr",
     "output_type": "stream",
     "text": [
      "IOPub message rate exceeded.\n",
      "The notebook server will temporarily stop sending output\n",
      "to the client in order to avoid crashing it.\n",
      "To change this limit, set the config variable\n",
      "`--NotebookApp.iopub_msg_rate_limit`.\n",
      "\n",
      "Current values:\n",
      "NotebookApp.iopub_msg_rate_limit=1000.0 (msgs/sec)\n",
      "NotebookApp.rate_limit_window=3.0 (secs)\n",
      "\n"
     ]
    },
    {
     "name": "stdout",
     "output_type": "stream",
     "text": [
      "[=================================-----------------] 67.6% 513.0/758.5MB downloaded"
     ]
    },
    {
     "name": "stderr",
     "output_type": "stream",
     "text": [
      "IOPub message rate exceeded.\n",
      "The notebook server will temporarily stop sending output\n",
      "to the client in order to avoid crashing it.\n",
      "To change this limit, set the config variable\n",
      "`--NotebookApp.iopub_msg_rate_limit`.\n",
      "\n",
      "Current values:\n",
      "NotebookApp.iopub_msg_rate_limit=1000.0 (msgs/sec)\n",
      "NotebookApp.rate_limit_window=3.0 (secs)\n",
      "\n"
     ]
    },
    {
     "name": "stdout",
     "output_type": "stream",
     "text": [
      "[====================================--------------] 72.2% 547.5/758.5MB downloaded"
     ]
    },
    {
     "name": "stderr",
     "output_type": "stream",
     "text": [
      "IOPub message rate exceeded.\n",
      "The notebook server will temporarily stop sending output\n",
      "to the client in order to avoid crashing it.\n",
      "To change this limit, set the config variable\n",
      "`--NotebookApp.iopub_msg_rate_limit`.\n",
      "\n",
      "Current values:\n",
      "NotebookApp.iopub_msg_rate_limit=1000.0 (msgs/sec)\n",
      "NotebookApp.rate_limit_window=3.0 (secs)\n",
      "\n"
     ]
    },
    {
     "name": "stdout",
     "output_type": "stream",
     "text": [
      "[======================================------------] 76.7% 581.5/758.5MB downloaded"
     ]
    },
    {
     "name": "stderr",
     "output_type": "stream",
     "text": [
      "IOPub message rate exceeded.\n",
      "The notebook server will temporarily stop sending output\n",
      "to the client in order to avoid crashing it.\n",
      "To change this limit, set the config variable\n",
      "`--NotebookApp.iopub_msg_rate_limit`.\n",
      "\n",
      "Current values:\n",
      "NotebookApp.iopub_msg_rate_limit=1000.0 (msgs/sec)\n",
      "NotebookApp.rate_limit_window=3.0 (secs)\n",
      "\n"
     ]
    },
    {
     "name": "stdout",
     "output_type": "stream",
     "text": [
      "[========================================----------] 81.2% 615.9/758.5MB downloaded"
     ]
    },
    {
     "name": "stderr",
     "output_type": "stream",
     "text": [
      "IOPub message rate exceeded.\n",
      "The notebook server will temporarily stop sending output\n",
      "to the client in order to avoid crashing it.\n",
      "To change this limit, set the config variable\n",
      "`--NotebookApp.iopub_msg_rate_limit`.\n",
      "\n",
      "Current values:\n",
      "NotebookApp.iopub_msg_rate_limit=1000.0 (msgs/sec)\n",
      "NotebookApp.rate_limit_window=3.0 (secs)\n",
      "\n"
     ]
    },
    {
     "name": "stdout",
     "output_type": "stream",
     "text": [
      "[==========================================--------] 85.7% 649.9/758.5MB downloaded"
     ]
    },
    {
     "name": "stderr",
     "output_type": "stream",
     "text": [
      "IOPub message rate exceeded.\n",
      "The notebook server will temporarily stop sending output\n",
      "to the client in order to avoid crashing it.\n",
      "To change this limit, set the config variable\n",
      "`--NotebookApp.iopub_msg_rate_limit`.\n",
      "\n",
      "Current values:\n",
      "NotebookApp.iopub_msg_rate_limit=1000.0 (msgs/sec)\n",
      "NotebookApp.rate_limit_window=3.0 (secs)\n",
      "\n"
     ]
    },
    {
     "name": "stdout",
     "output_type": "stream",
     "text": [
      "[=============================================-----] 90.2% 684.1/758.5MB downloaded"
     ]
    },
    {
     "name": "stderr",
     "output_type": "stream",
     "text": [
      "IOPub message rate exceeded.\n",
      "The notebook server will temporarily stop sending output\n",
      "to the client in order to avoid crashing it.\n",
      "To change this limit, set the config variable\n",
      "`--NotebookApp.iopub_msg_rate_limit`.\n",
      "\n",
      "Current values:\n",
      "NotebookApp.iopub_msg_rate_limit=1000.0 (msgs/sec)\n",
      "NotebookApp.rate_limit_window=3.0 (secs)\n",
      "\n"
     ]
    },
    {
     "name": "stdout",
     "output_type": "stream",
     "text": [
      "[===============================================---] 94.7% 718.6/758.5MB downloaded"
     ]
    },
    {
     "name": "stderr",
     "output_type": "stream",
     "text": [
      "IOPub message rate exceeded.\n",
      "The notebook server will temporarily stop sending output\n",
      "to the client in order to avoid crashing it.\n",
      "To change this limit, set the config variable\n",
      "`--NotebookApp.iopub_msg_rate_limit`.\n",
      "\n",
      "Current values:\n",
      "NotebookApp.iopub_msg_rate_limit=1000.0 (msgs/sec)\n",
      "NotebookApp.rate_limit_window=3.0 (secs)\n",
      "\n"
     ]
    },
    {
     "name": "stdout",
     "output_type": "stream",
     "text": [
      "[=================================================-] 99.3% 753.5/758.5MB downloaded"
     ]
    },
    {
     "name": "stderr",
     "output_type": "stream",
     "text": [
      "IOPub message rate exceeded.\n",
      "The notebook server will temporarily stop sending output\n",
      "to the client in order to avoid crashing it.\n",
      "To change this limit, set the config variable\n",
      "`--NotebookApp.iopub_msg_rate_limit`.\n",
      "\n",
      "Current values:\n",
      "NotebookApp.iopub_msg_rate_limit=1000.0 (msgs/sec)\n",
      "NotebookApp.rate_limit_window=3.0 (secs)\n",
      "\n"
     ]
    }
   ],
   "source": [
    "import gensim.downloader\n",
    "glove_twitter = gensim.downloader.load('glove-twitter-200')"
   ]
  },
  {
   "cell_type": "code",
   "execution_count": 29,
   "id": "athletic-brief",
   "metadata": {},
   "outputs": [
    {
     "data": {
      "text/plain": [
       "softskills    Adaptability\n",
       "Name: 0, dtype: object"
      ]
     },
     "execution_count": 29,
     "metadata": {},
     "output_type": "execute_result"
    }
   ],
   "source": [
    "soft_skills.iloc[0]"
   ]
  },
  {
   "cell_type": "code",
   "execution_count": 36,
   "id": "completed-exclusive",
   "metadata": {},
   "outputs": [
    {
     "name": "stdout",
     "output_type": "stream",
     "text": [
      "None\n"
     ]
    }
   ],
   "source": [
    "print(glove_twitter.vectors_norm)"
   ]
  },
  {
   "cell_type": "code",
   "execution_count": 50,
   "id": "funky-flavor",
   "metadata": {},
   "outputs": [
    {
     "ename": "KeyError",
     "evalue": "\"word 'conflict_resolution' not in vocabulary\"",
     "output_type": "error",
     "traceback": [
      "\u001b[1;31m---------------------------------------------------------------------------\u001b[0m",
      "\u001b[1;31mKeyError\u001b[0m                                  Traceback (most recent call last)",
      "\u001b[1;32m<ipython-input-50-3995e1083272>\u001b[0m in \u001b[0;36m<module>\u001b[1;34m\u001b[0m\n\u001b[1;32m----> 1\u001b[1;33m \u001b[0mresult\u001b[0m \u001b[1;33m=\u001b[0m \u001b[0mglove_twitter\u001b[0m\u001b[1;33m.\u001b[0m\u001b[0mmost_similar_cosmul\u001b[0m\u001b[1;33m(\u001b[0m\u001b[0mpositive\u001b[0m\u001b[1;33m=\u001b[0m\u001b[0mwords\u001b[0m\u001b[1;33m)\u001b[0m\u001b[1;33m\u001b[0m\u001b[1;33m\u001b[0m\u001b[0m\n\u001b[0m",
      "\u001b[1;32m~\\anaconda3\\envs\\scraper\\lib\\site-packages\\gensim\\models\\keyedvectors.py\u001b[0m in \u001b[0;36mmost_similar_cosmul\u001b[1;34m(self, positive, negative, topn)\u001b[0m\n\u001b[0;32m    830\u001b[0m         positive = [\n\u001b[0;32m    831\u001b[0m             \u001b[0mself\u001b[0m\u001b[1;33m.\u001b[0m\u001b[0mword_vec\u001b[0m\u001b[1;33m(\u001b[0m\u001b[0mword\u001b[0m\u001b[1;33m,\u001b[0m \u001b[0muse_norm\u001b[0m\u001b[1;33m=\u001b[0m\u001b[1;32mTrue\u001b[0m\u001b[1;33m)\u001b[0m \u001b[1;32mif\u001b[0m \u001b[0misinstance\u001b[0m\u001b[1;33m(\u001b[0m\u001b[0mword\u001b[0m\u001b[1;33m,\u001b[0m \u001b[0mstring_types\u001b[0m\u001b[1;33m)\u001b[0m \u001b[1;32melse\u001b[0m \u001b[0mword\u001b[0m\u001b[1;33m\u001b[0m\u001b[1;33m\u001b[0m\u001b[0m\n\u001b[1;32m--> 832\u001b[1;33m             \u001b[1;32mfor\u001b[0m \u001b[0mword\u001b[0m \u001b[1;32min\u001b[0m \u001b[0mpositive\u001b[0m\u001b[1;33m\u001b[0m\u001b[1;33m\u001b[0m\u001b[0m\n\u001b[0m\u001b[0;32m    833\u001b[0m         ]\n\u001b[0;32m    834\u001b[0m         negative = [\n",
      "\u001b[1;32m~\\anaconda3\\envs\\scraper\\lib\\site-packages\\gensim\\models\\keyedvectors.py\u001b[0m in \u001b[0;36m<listcomp>\u001b[1;34m(.0)\u001b[0m\n\u001b[0;32m    830\u001b[0m         positive = [\n\u001b[0;32m    831\u001b[0m             \u001b[0mself\u001b[0m\u001b[1;33m.\u001b[0m\u001b[0mword_vec\u001b[0m\u001b[1;33m(\u001b[0m\u001b[0mword\u001b[0m\u001b[1;33m,\u001b[0m \u001b[0muse_norm\u001b[0m\u001b[1;33m=\u001b[0m\u001b[1;32mTrue\u001b[0m\u001b[1;33m)\u001b[0m \u001b[1;32mif\u001b[0m \u001b[0misinstance\u001b[0m\u001b[1;33m(\u001b[0m\u001b[0mword\u001b[0m\u001b[1;33m,\u001b[0m \u001b[0mstring_types\u001b[0m\u001b[1;33m)\u001b[0m \u001b[1;32melse\u001b[0m \u001b[0mword\u001b[0m\u001b[1;33m\u001b[0m\u001b[1;33m\u001b[0m\u001b[0m\n\u001b[1;32m--> 832\u001b[1;33m             \u001b[1;32mfor\u001b[0m \u001b[0mword\u001b[0m \u001b[1;32min\u001b[0m \u001b[0mpositive\u001b[0m\u001b[1;33m\u001b[0m\u001b[1;33m\u001b[0m\u001b[0m\n\u001b[0m\u001b[0;32m    833\u001b[0m         ]\n\u001b[0;32m    834\u001b[0m         negative = [\n",
      "\u001b[1;32m~\\anaconda3\\envs\\scraper\\lib\\site-packages\\gensim\\models\\keyedvectors.py\u001b[0m in \u001b[0;36mword_vec\u001b[1;34m(self, word, use_norm)\u001b[0m\n\u001b[0;32m    466\u001b[0m             \u001b[1;32mreturn\u001b[0m \u001b[0mresult\u001b[0m\u001b[1;33m\u001b[0m\u001b[1;33m\u001b[0m\u001b[0m\n\u001b[0;32m    467\u001b[0m         \u001b[1;32melse\u001b[0m\u001b[1;33m:\u001b[0m\u001b[1;33m\u001b[0m\u001b[1;33m\u001b[0m\u001b[0m\n\u001b[1;32m--> 468\u001b[1;33m             \u001b[1;32mraise\u001b[0m \u001b[0mKeyError\u001b[0m\u001b[1;33m(\u001b[0m\u001b[1;34m\"word '%s' not in vocabulary\"\u001b[0m \u001b[1;33m%\u001b[0m \u001b[0mword\u001b[0m\u001b[1;33m)\u001b[0m\u001b[1;33m\u001b[0m\u001b[1;33m\u001b[0m\u001b[0m\n\u001b[0m\u001b[0;32m    469\u001b[0m \u001b[1;33m\u001b[0m\u001b[0m\n\u001b[0;32m    470\u001b[0m     \u001b[1;32mdef\u001b[0m \u001b[0mget_vector\u001b[0m\u001b[1;33m(\u001b[0m\u001b[0mself\u001b[0m\u001b[1;33m,\u001b[0m \u001b[0mword\u001b[0m\u001b[1;33m)\u001b[0m\u001b[1;33m:\u001b[0m\u001b[1;33m\u001b[0m\u001b[1;33m\u001b[0m\u001b[0m\n",
      "\u001b[1;31mKeyError\u001b[0m: \"word 'conflict_resolution' not in vocabulary\""
     ]
    }
   ],
   "source": [
    "result = glove_twitter.most_similar_cosmul(positive=words)"
   ]
  },
  {
   "cell_type": "code",
   "execution_count": 64,
   "id": "hindu-pickup",
   "metadata": {},
   "outputs": [],
   "source": [
    "words = []\n",
    "for i in soft_skills.values:\n",
    "    i = i[0].lower()\n",
    "\n",
    "    w = i.split()\n",
    "    if len(w) >1:\n",
    "        w = \"-\".join(w)\n",
    "        words.append(w)\n",
    "    else:\n",
    "        words.append(w[0])\n"
   ]
  },
  {
   "cell_type": "code",
   "execution_count": 44,
   "id": "funky-youth",
   "metadata": {},
   "outputs": [
    {
     "data": {
      "text/plain": [
       "'Adaptability'"
      ]
     },
     "execution_count": 44,
     "metadata": {},
     "output_type": "execute_result"
    }
   ],
   "source": [
    "soft_skills.values[0][0]"
   ]
  },
  {
   "cell_type": "code",
   "execution_count": 65,
   "id": "alike-chassis",
   "metadata": {},
   "outputs": [
    {
     "data": {
      "text/plain": [
       "['adaptability',\n",
       " 'communication',\n",
       " 'confidence',\n",
       " 'conflict-resolution',\n",
       " 'cooperation',\n",
       " 'creativity',\n",
       " 'critical-thinking',\n",
       " 'decisiveness',\n",
       " 'dependability',\n",
       " 'diligence',\n",
       " 'discipline',\n",
       " 'empathy',\n",
       " 'flexibility',\n",
       " 'independence',\n",
       " 'initiative',\n",
       " 'leadership',\n",
       " 'motivation',\n",
       " 'negotiation',\n",
       " 'networking',\n",
       " 'perception',\n",
       " 'planning',\n",
       " 'positive-attitude',\n",
       " 'problem-solving',\n",
       " 'responsibility',\n",
       " 'teamwork',\n",
       " 'time-management',\n",
       " 'work-ethic']"
      ]
     },
     "execution_count": 65,
     "metadata": {},
     "output_type": "execute_result"
    }
   ],
   "source": [
    "words"
   ]
  },
  {
   "cell_type": "code",
   "execution_count": 79,
   "id": "short-greek",
   "metadata": {},
   "outputs": [],
   "source": [
    "sims = []\n",
    "for word in words:\n",
    "    try:\n",
    "        si = glove_twitter.similar_by_word(word)\n",
    "        for s in si:\n",
    "            sims.append(s[0])\n",
    "    except:\n",
    "        pass"
   ]
  },
  {
   "cell_type": "code",
   "execution_count": 61,
   "id": "human-laugh",
   "metadata": {},
   "outputs": [
    {
     "ename": "TypeError",
     "evalue": "unhashable type: 'list'",
     "output_type": "error",
     "traceback": [
      "\u001b[1;31m---------------------------------------------------------------------------\u001b[0m",
      "\u001b[1;31mTypeError\u001b[0m                                 Traceback (most recent call last)",
      "\u001b[1;32m<ipython-input-61-5a3d3d05d490>\u001b[0m in \u001b[0;36m<module>\u001b[1;34m\u001b[0m\n\u001b[1;32m----> 1\u001b[1;33m \u001b[0mset\u001b[0m\u001b[1;33m(\u001b[0m\u001b[0msims\u001b[0m\u001b[1;33m)\u001b[0m\u001b[1;33m\u001b[0m\u001b[1;33m\u001b[0m\u001b[0m\n\u001b[0m",
      "\u001b[1;31mTypeError\u001b[0m: unhashable type: 'list'"
     ]
    }
   ],
   "source": [
    "set(sims)"
   ]
  },
  {
   "cell_type": "code",
   "execution_count": 81,
   "id": "separate-president",
   "metadata": {},
   "outputs": [
    {
     "data": {
      "text/plain": [
       "{'ability',\n",
       " 'accept',\n",
       " 'accountability',\n",
       " 'agility',\n",
       " 'agreement',\n",
       " 'ambition',\n",
       " 'appraisal',\n",
       " 'approach',\n",
       " 'arrogance',\n",
       " 'articulation',\n",
       " 'aspect',\n",
       " 'assignation',\n",
       " 'attitude',\n",
       " 'backfiring',\n",
       " 'belief',\n",
       " 'blame',\n",
       " 'blogging',\n",
       " 'boost',\n",
       " 'business',\n",
       " 'campaign',\n",
       " 'catalonia',\n",
       " 'celebrate',\n",
       " 'characterization',\n",
       " 'co-operation',\n",
       " 'cognition',\n",
       " 'commitment',\n",
       " 'communications',\n",
       " 'community',\n",
       " 'compassion',\n",
       " 'competency',\n",
       " 'confidence',\n",
       " 'connectedness',\n",
       " 'connection',\n",
       " 'connections',\n",
       " 'consciousness',\n",
       " 'conservation',\n",
       " 'consistency',\n",
       " 'contrition',\n",
       " 'contrivance',\n",
       " 'correspondence',\n",
       " 'creative',\n",
       " 'creativity',\n",
       " 'dealings',\n",
       " 'declaration',\n",
       " 'dedication',\n",
       " 'democracy',\n",
       " 'determination',\n",
       " 'development',\n",
       " 'dialogue',\n",
       " 'diplomacy',\n",
       " 'earnestness',\n",
       " 'education',\n",
       " 'effort',\n",
       " 'eminent',\n",
       " 'empowerment',\n",
       " 'equality',\n",
       " 'esteem',\n",
       " 'ethic',\n",
       " 'events',\n",
       " 'exhortation',\n",
       " 'failure',\n",
       " 'failures',\n",
       " 'fragility',\n",
       " 'freedom',\n",
       " 'going',\n",
       " 'governance',\n",
       " 'hardwork',\n",
       " 'humility',\n",
       " 'imagination',\n",
       " 'incorporating',\n",
       " 'independance',\n",
       " 'ineptitude',\n",
       " 'influence',\n",
       " 'initiatives',\n",
       " 'innovation',\n",
       " 'inspiration',\n",
       " 'intellectualism',\n",
       " 'kindness',\n",
       " 'knowledge',\n",
       " 'lack',\n",
       " 'leaders',\n",
       " 'leadership',\n",
       " 'linkedin',\n",
       " 'mannerism',\n",
       " 'marketing',\n",
       " 'meeting',\n",
       " 'mindset',\n",
       " 'motivated',\n",
       " 'motivation',\n",
       " 'national',\n",
       " 'negotiating',\n",
       " 'negotiations',\n",
       " 'network',\n",
       " 'networks',\n",
       " 'next',\n",
       " 'night-time',\n",
       " 'objectivity',\n",
       " 'obligation',\n",
       " 'obstinacy',\n",
       " 'omnipotence',\n",
       " 'ostentatious',\n",
       " 'partnership',\n",
       " 'partnerships',\n",
       " 'passion',\n",
       " 'patience',\n",
       " 'perceptions',\n",
       " 'perseverance',\n",
       " 'persistence',\n",
       " 'perspective',\n",
       " 'plan',\n",
       " 'planing',\n",
       " 'plans',\n",
       " 'post-mortem',\n",
       " 'precautionary',\n",
       " 'preparing',\n",
       " 'professionalism',\n",
       " 'profitability',\n",
       " 'propensity',\n",
       " 'receded',\n",
       " 'reconciliation',\n",
       " 'referendum',\n",
       " 'reflection',\n",
       " 'relation',\n",
       " 'relations',\n",
       " 'relationship',\n",
       " 'relationships',\n",
       " 'reliability',\n",
       " 'requires',\n",
       " 'resiliency',\n",
       " 'responsibilities',\n",
       " 'responsible',\n",
       " 'restraint',\n",
       " 'role-play',\n",
       " 'sacrifice',\n",
       " 'scotland',\n",
       " 'scrupulous',\n",
       " 'self',\n",
       " 'self-awareness',\n",
       " 'self-esteem',\n",
       " 'sensitivity',\n",
       " 'settlement',\n",
       " 'skill',\n",
       " 'skills',\n",
       " 'social',\n",
       " 'social-media',\n",
       " 'stability',\n",
       " 'start',\n",
       " 'steadiness',\n",
       " 'story-telling',\n",
       " 'strategies',\n",
       " 'strategy',\n",
       " 'strength',\n",
       " 'subjective',\n",
       " 'subjectivity',\n",
       " 'success',\n",
       " 'superego',\n",
       " 'sustenance',\n",
       " 'sympathy',\n",
       " 'techniques',\n",
       " 'tenacity',\n",
       " 'togetherness',\n",
       " 'tolerance',\n",
       " 'toughness',\n",
       " 'transparency',\n",
       " 'trust',\n",
       " 'understanding',\n",
       " 'unselfishness',\n",
       " 'usefulness',\n",
       " 'utmost',\n",
       " 'versatility',\n",
       " 'virtue',\n",
       " 'vision',\n",
       " 'weekend',\n",
       " 'well-developed',\n",
       " 'work',\n",
       " 'working',\n",
       " 'workout',\n",
       " 'workplace',\n",
       " 'youth',\n",
       " 'аналогии'}"
      ]
     },
     "execution_count": 81,
     "metadata": {},
     "output_type": "execute_result"
    }
   ],
   "source": [
    "set(sims)"
   ]
  },
  {
   "cell_type": "code",
   "execution_count": 70,
   "id": "decent-chicago",
   "metadata": {},
   "outputs": [],
   "source": [
    "si = glove_twitter.similar_by_word(\"failure\")"
   ]
  },
  {
   "cell_type": "code",
   "execution_count": 78,
   "id": "polish-pregnancy",
   "metadata": {},
   "outputs": [
    {
     "data": {
      "text/plain": [
       "'success'"
      ]
     },
     "execution_count": 78,
     "metadata": {},
     "output_type": "execute_result"
    }
   ],
   "source": [
    "si[0][0]"
   ]
  },
  {
   "cell_type": "code",
   "execution_count": 83,
   "id": "nuclear-vertical",
   "metadata": {},
   "outputs": [],
   "source": [
    "sims += words"
   ]
  },
  {
   "cell_type": "code",
   "execution_count": 84,
   "id": "continued-agent",
   "metadata": {},
   "outputs": [
    {
     "data": {
      "text/plain": [
       "['tenacity',\n",
       " 'ineptitude',\n",
       " 'competency',\n",
       " 'subjectivity',\n",
       " 'resiliency',\n",
       " 'usefulness',\n",
       " 'backfiring',\n",
       " 'night-time',\n",
       " 'connectedness',\n",
       " 'contrition',\n",
       " 'communications',\n",
       " 'relations',\n",
       " 'understanding',\n",
       " 'connection',\n",
       " 'relationship',\n",
       " 'relationships',\n",
       " 'relation',\n",
       " 'connections',\n",
       " 'approach',\n",
       " 'trust',\n",
       " 'self',\n",
       " 'esteem',\n",
       " 'arrogance',\n",
       " 'strength',\n",
       " 'lack',\n",
       " 'humility',\n",
       " 'self-esteem',\n",
       " 'success',\n",
       " 'ability',\n",
       " 'boost',\n",
       " 'co-operation',\n",
       " 'partnership',\n",
       " 'reconciliation',\n",
       " 'diplomacy',\n",
       " 'agreement',\n",
       " 'transparency',\n",
       " 'partnerships',\n",
       " 'negotiations',\n",
       " 'dialogue',\n",
       " 'accountability',\n",
       " 'creative',\n",
       " 'imagination',\n",
       " 'innovation',\n",
       " 'confidence',\n",
       " 'knowledge',\n",
       " 'inspiration',\n",
       " 'ability',\n",
       " 'lack',\n",
       " 'leadership',\n",
       " 'passion',\n",
       " 'omnipotence',\n",
       " 'exhortation',\n",
       " 'articulation',\n",
       " 'obstinacy',\n",
       " 'characterization',\n",
       " 'fragility',\n",
       " 'superego',\n",
       " 'receded',\n",
       " 'contrivance',\n",
       " 'well-developed',\n",
       " 'reliability',\n",
       " 'steadiness',\n",
       " 'unselfishness',\n",
       " 'objectivity',\n",
       " 'аналогии',\n",
       " 'eminent',\n",
       " 'versatility',\n",
       " 'intellectualism',\n",
       " 'tenacity',\n",
       " 'ostentatious',\n",
       " 'perseverance',\n",
       " 'earnestness',\n",
       " 'sustenance',\n",
       " 'precautionary',\n",
       " 'post-mortem',\n",
       " 'utmost',\n",
       " 'virtue',\n",
       " 'profitability',\n",
       " 'appraisal',\n",
       " 'persistence',\n",
       " 'determination',\n",
       " 'dedication',\n",
       " 'humility',\n",
       " 'sacrifice',\n",
       " 'patience',\n",
       " 'requires',\n",
       " 'failure',\n",
       " 'ambition',\n",
       " 'motivation',\n",
       " 'consistency',\n",
       " 'compassion',\n",
       " 'sympathy',\n",
       " 'humility',\n",
       " 'understanding',\n",
       " 'lack',\n",
       " 'creativity',\n",
       " 'tolerance',\n",
       " 'sensitivity',\n",
       " 'kindness',\n",
       " 'self-awareness',\n",
       " 'stability',\n",
       " 'agility',\n",
       " 'sensitivity',\n",
       " 'strength',\n",
       " 'workplace',\n",
       " 'professionalism',\n",
       " 'accountability',\n",
       " 'versatility',\n",
       " 'toughness',\n",
       " 'restraint',\n",
       " 'freedom',\n",
       " 'declaration',\n",
       " 'democracy',\n",
       " 'scotland',\n",
       " 'equality',\n",
       " 'catalonia',\n",
       " 'independance',\n",
       " 'celebrate',\n",
       " 'referendum',\n",
       " 'national',\n",
       " 'innovation',\n",
       " 'initiatives',\n",
       " 'development',\n",
       " 'education',\n",
       " 'leadership',\n",
       " 'campaign',\n",
       " 'conservation',\n",
       " 'empowerment',\n",
       " 'partnership',\n",
       " 'community',\n",
       " 'leaders',\n",
       " 'innovation',\n",
       " 'education',\n",
       " 'development',\n",
       " 'success',\n",
       " 'strategy',\n",
       " 'youth',\n",
       " 'governance',\n",
       " 'community',\n",
       " 'influence',\n",
       " 'inspiration',\n",
       " 'dedication',\n",
       " 'determination',\n",
       " 'workout',\n",
       " 'ambition',\n",
       " 'passion',\n",
       " 'work',\n",
       " 'motivated',\n",
       " 'success',\n",
       " 'strength',\n",
       " 'negotiating',\n",
       " 'negotiations',\n",
       " 'agreement',\n",
       " 'techniques',\n",
       " 'correspondence',\n",
       " 'strategy',\n",
       " 'strategies',\n",
       " 'diplomacy',\n",
       " 'dealings',\n",
       " 'settlement',\n",
       " 'social',\n",
       " 'network',\n",
       " 'marketing',\n",
       " 'business',\n",
       " 'connections',\n",
       " 'networks',\n",
       " 'blogging',\n",
       " 'linkedin',\n",
       " 'community',\n",
       " 'events',\n",
       " 'perspective',\n",
       " 'perceptions',\n",
       " 'aspect',\n",
       " 'consciousness',\n",
       " 'belief',\n",
       " 'subjective',\n",
       " 'mindset',\n",
       " 'reflection',\n",
       " 'attitude',\n",
       " 'vision',\n",
       " 'plans',\n",
       " 'preparing',\n",
       " 'plan',\n",
       " 'meeting',\n",
       " 'going',\n",
       " 'weekend',\n",
       " 'planing',\n",
       " 'start',\n",
       " 'next',\n",
       " 'working',\n",
       " 'mannerism',\n",
       " 'assignation',\n",
       " 'characterization',\n",
       " 'cognition',\n",
       " 'scrupulous',\n",
       " 'story-telling',\n",
       " 'incorporating',\n",
       " 'social-media',\n",
       " 'role-play',\n",
       " 'propensity',\n",
       " 'accountability',\n",
       " 'failure',\n",
       " 'commitment',\n",
       " 'sacrifice',\n",
       " 'responsible',\n",
       " 'responsibilities',\n",
       " 'failures',\n",
       " 'obligation',\n",
       " 'accept',\n",
       " 'blame',\n",
       " 'hardwork',\n",
       " 'dedication',\n",
       " 'perseverance',\n",
       " 'skills',\n",
       " 'togetherness',\n",
       " 'skill',\n",
       " 'success',\n",
       " 'ethic',\n",
       " 'determination',\n",
       " 'effort',\n",
       " 'adaptability',\n",
       " 'communication',\n",
       " 'confidence',\n",
       " 'conflict-resolution',\n",
       " 'cooperation',\n",
       " 'creativity',\n",
       " 'critical-thinking',\n",
       " 'decisiveness',\n",
       " 'dependability',\n",
       " 'diligence',\n",
       " 'discipline',\n",
       " 'empathy',\n",
       " 'flexibility',\n",
       " 'independence',\n",
       " 'initiative',\n",
       " 'leadership',\n",
       " 'motivation',\n",
       " 'negotiation',\n",
       " 'networking',\n",
       " 'perception',\n",
       " 'planning',\n",
       " 'positive-attitude',\n",
       " 'problem-solving',\n",
       " 'responsibility',\n",
       " 'teamwork',\n",
       " 'time-management',\n",
       " 'work-ethic']"
      ]
     },
     "execution_count": 84,
     "metadata": {},
     "output_type": "execute_result"
    }
   ],
   "source": [
    "sims"
   ]
  },
  {
   "cell_type": "code",
   "execution_count": null,
   "id": "korean-liabilities",
   "metadata": {},
   "outputs": [],
   "source": []
  }
 ],
 "metadata": {
  "kernelspec": {
   "display_name": "Python 3",
   "language": "python",
   "name": "python3"
  },
  "language_info": {
   "codemirror_mode": {
    "name": "ipython",
    "version": 3
   },
   "file_extension": ".py",
   "mimetype": "text/x-python",
   "name": "python",
   "nbconvert_exporter": "python",
   "pygments_lexer": "ipython3",
   "version": "3.7.10"
  }
 },
 "nbformat": 4,
 "nbformat_minor": 5
}
