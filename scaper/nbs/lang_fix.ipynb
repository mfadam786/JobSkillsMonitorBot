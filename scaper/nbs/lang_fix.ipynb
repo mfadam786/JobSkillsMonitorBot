{
 "cells": [
  {
   "cell_type": "code",
   "execution_count": 1,
   "id": "exceptional-boulder",
   "metadata": {},
   "outputs": [],
   "source": [
    "import pandas as pd\n",
    "from pathlib import Path"
   ]
  },
  {
   "cell_type": "code",
   "execution_count": 4,
   "id": "sensitive-modern",
   "metadata": {},
   "outputs": [],
   "source": [
    "p = Path(\"data/langs.txt\")"
   ]
  },
  {
   "cell_type": "code",
   "execution_count": 6,
   "id": "regulation-tourism",
   "metadata": {},
   "outputs": [
    {
     "data": {
      "text/plain": [
       "True"
      ]
     },
     "execution_count": 6,
     "metadata": {},
     "output_type": "execute_result"
    }
   ],
   "source": [
    "p.exists()"
   ]
  },
  {
   "cell_type": "code",
   "execution_count": 11,
   "id": "french-emergency",
   "metadata": {},
   "outputs": [],
   "source": [
    "df = pd.read_csv(p, delimiter=\"\\n\")"
   ]
  },
  {
   "cell_type": "code",
   "execution_count": 15,
   "id": "twelve-cattle",
   "metadata": {},
   "outputs": [],
   "source": [
    "df[\"fixed\"] = df[\"lang\"].transform(lambda x: x.split(\"(\")[0])"
   ]
  },
  {
   "cell_type": "code",
   "execution_count": 18,
   "id": "competitive-accordance",
   "metadata": {},
   "outputs": [
    {
     "data": {
      "text/plain": [
       "array(['A.NET ', 'A-0 System', 'A+ ', 'ABAP', 'ABC', 'ABC ALGOL', 'ACC',\n",
       "       'Accent ', 'Ace DASL ', 'Action!', 'ActionScript', 'Actor', 'Ada',\n",
       "       'Adenine ', 'AdvPL', 'Agda', 'Agilent VEE ', 'Agora', 'AIMMS',\n",
       "       'Aldor', 'Alef', 'ALF', 'ALGOL 58', 'ALGOL 60', 'ALGOL 68',\n",
       "       'ALGOL W', 'Alice ', 'Alma-0', 'AmbientTalk', 'Amiga E', 'AMOS ',\n",
       "       'AMPL', 'AngelScript', 'Apache Pig latin', 'Apex ', 'APL',\n",
       "       \"App Inventor for Android's visual block language \", 'AppleScript',\n",
       "       'APT', 'Arc', 'ARexx', 'Argus', 'Assembly language ', 'AutoIt',\n",
       "       'AutoLISP / Visual LISP', 'Averest', 'AWK', 'Axum', 'B', 'Babbage',\n",
       "       'Ballerina', 'Bash', 'BASIC', 'Batch file ', 'bc ', 'BCPL',\n",
       "       'BeanShell', 'Bertrand', 'BETA', 'BLISS', 'Blockly', 'BlooP',\n",
       "       'Boo', 'Boomerang', 'Bosque', 'C – ISO/IEC 9899', 'C-- ', 'C++ ',\n",
       "       'C*', 'C# ', 'C/AL', 'Caché ObjectScript', 'C Shell ', 'Caml',\n",
       "       'Cayenne ', 'CDuce', 'Cecil', 'Cesil ', 'Céu', 'Ceylon',\n",
       "       'CFEngine', 'Cg ', 'Ch', 'Chapel ', 'Charm', 'CHILL', 'CHIP-8',\n",
       "       'ChucK', 'Cilk ', 'CL ', 'Claire', 'Clarion', 'Clean', 'Clipper',\n",
       "       'CLIPS', 'CLIST', 'Clojure', 'CLU', 'CMS-2',\n",
       "       'COBOL – ISO/IEC 1989', 'CobolScript – COBOL Scripting language',\n",
       "       'Cobra', 'CoffeeScript', 'ColdFusion', 'COMAL',\n",
       "       'Combined Programming Language ', 'COMIT',\n",
       "       'Common Intermediate Language ', 'Common Lisp ', 'COMPASS',\n",
       "       'Component Pascal', 'Constraint Handling Rules ', 'COMTRAN',\n",
       "       'Cool', 'Coq', 'Coral 66', 'CorVision', 'COWSEL', 'CPL', 'Cryptol',\n",
       "       'Crystal', 'Csound', 'Cuneiform', 'Curl', 'Curry', 'Cybil',\n",
       "       'Cyclone', 'Cypher Query Language', 'Cython', 'CEEMAC', 'D',\n",
       "       'Dart', 'Darwin', 'DataFlex', 'Datalog', 'DATATRIEVE', 'dBase',\n",
       "       'dc', 'DCL ', 'Delphi', 'DinkC', 'DIBOL', 'Dog', 'Draco', 'DRAKON',\n",
       "       'Dylan', 'DYNAMO', 'DAX ', 'E', 'Ease', 'Easy PL/I',\n",
       "       'EASYTRIEVE PLUS', 'eC', 'ECMAScript', 'Edinburgh IMP', 'EGL',\n",
       "       'Eiffel', 'ELAN', 'Elixir', 'Elm', 'Emacs Lisp', 'Emerald',\n",
       "       'Epigram', 'EPL ', 'EPL ', 'Erlang', 'es', 'Escher', 'ESPOL',\n",
       "       'Esterel', 'Etoys', 'Euclid', 'Euler', 'Euphoria',\n",
       "       'EusLisp Robot Programming Language', 'CMS EXEC ', 'EXEC 2',\n",
       "       'Executable UML', 'Ezhil', 'F', 'F# ', 'F*', 'Factor', 'Fantom',\n",
       "       'FAUST', 'FFP', 'fish', 'Fjölnir', 'FL', 'Flavors', 'Flex', 'Flix',\n",
       "       'FlooP', 'FLOW-MASTIC ', 'FOCAL ', 'FOCUS', 'FOIL', 'FORMAC ',\n",
       "       '@Formula', 'Forth', 'Fortran – ISO/IEC 1539', 'Fortress', 'FP',\n",
       "       'Franz Lisp', 'Futhark', 'F-Script', 'Game Maker Language ',\n",
       "       'GameMonkey Script', 'GAMS ', 'GAP', 'G-code', 'GDScript ',\n",
       "       'Genie', 'GDL ', 'GEORGE', 'GLSL ', 'GNU E', 'GNU Guile ', 'Go',\n",
       "       'Go!', 'GOAL ', 'Gödel', 'Golo', 'GOM ', 'Google Apps Script',\n",
       "       'Gosu', 'GOTRAN ', 'GPSS ', 'GraphTalk ', 'GRASS', 'Grasshopper',\n",
       "       'Groovy ', 'Hack', 'HAGGIS', 'HAL/S', 'Halide ',\n",
       "       'Hamilton C shell', 'Harbour', 'Hartmann pipelines', 'Haskell',\n",
       "       'Haxe', 'Hermes', 'High Level Assembly ', 'HLSL', 'Hollywood',\n",
       "       'HolyC ', 'Hop', 'Hopscotch', 'Hope', 'Hugo ', 'Hume', 'HyperTalk',\n",
       "       'Io', 'Icon', 'IBM Basic assembly language', 'IBM HAScript',\n",
       "       'IBM Informix-4GL', 'IBM RPG', 'IDL', 'Idris', 'Inform', 'J',\n",
       "       'J# ', 'J++ ', 'JADE', 'Jai', 'JAL', 'Janus ', 'Janus ', 'JASS',\n",
       "       'Java', 'JavaFX Script', 'JavaScript', 'Jess ', 'JCL', 'JEAN',\n",
       "       'Join Java', 'JOSS', 'Joule', 'JOVIAL', 'Joy', 'JScript',\n",
       "       'JScript .NET', 'Julia', 'Jython', 'K', 'Kaleidoscope', 'Karel',\n",
       "       'KEE', 'Kixtart', 'Klerer-May System', 'KIF ', 'Kojo', 'Kotlin',\n",
       "       'KRC', 'KRL', 'KRL ', 'KRYPTON', 'KornShell ', 'Kodu', 'Kv ',\n",
       "       'LabVIEW', 'Ladder', 'LANSA', 'Lasso', 'Lava', 'LC-3', 'Lean',\n",
       "       'Legoscript', 'LIL', 'LilyPond', 'Limbo', 'Limnor', 'LINC',\n",
       "       'Lingo', 'LINQ', 'LIS', 'LISA', 'Language H',\n",
       "       'Lisp – ISO/IEC 13816', 'Lite-C', 'Lithe', 'Little b', 'LLL',\n",
       "       'Logo', 'Logtalk', 'LotusScript', 'LPC', 'LSE', 'LSL', 'LiveCode',\n",
       "       'LiveScript', 'Lua', 'Lucid', 'Lustre', 'LYaPAS', 'Lynx', 'M2001',\n",
       "       'M4', 'M#', 'Machine code', 'MAD ', 'MAD/I', 'Magik', 'Magma',\n",
       "       'Máni', 'Maple', 'MAPPER ', 'MARK-IV ', 'Mary', 'MATLAB',\n",
       "       'MASM Microsoft Assembly x86', 'MATH-MATIC', 'Maude system',\n",
       "       'Maxima ', 'Max ', 'MaxScript internal language 3D Studio Max',\n",
       "       'Maya ', 'MDL', 'Mercury', 'Mesa', 'MHEG-5 ', 'Microcode',\n",
       "       'MicroScript', 'Microsoft Power Fx', 'MIIS', 'Milk ', 'MIMIC',\n",
       "       'Mirah', 'Miranda', 'MIVA Script', 'ML', 'Model 204', 'Modelica',\n",
       "       'Modula', 'Modula-2', 'Modula-3', 'Mohol', 'MOO', 'Mortran',\n",
       "       'Mouse', 'MPD', 'MSL', 'MUMPS', 'MuPAD', 'Mutan',\n",
       "       'Mystic Programming Language ', 'NASM', 'Napier88', 'Neko',\n",
       "       'Nemerle', 'NESL', 'Net.Data', 'NetLogo', 'NetRexx', 'NewLISP',\n",
       "       'NEWP', 'Newspeak', 'NewtonScript', 'Nial', 'Nickle ', 'Nim',\n",
       "       'Nix ', 'NPL', 'Not eXactly C ', 'Not Quite C ', 'NSIS', 'Nu',\n",
       "       'NWScript', 'NXT-G', 'o:XML', 'Oak', 'Oberon', 'OBJ2',\n",
       "       'Object Lisp', 'ObjectLOGO', 'Object REXX', 'Object Pascal',\n",
       "       'Objective-C', 'Objective-J', 'Obliq', 'OCaml', 'occam', 'occam-π',\n",
       "       'Octave', 'OmniMark', 'Opa', 'Opal', 'OpenCL', 'OpenEdge ABL',\n",
       "       'OPL', 'OpenVera', 'OPS5', 'OptimJ', 'Orc', 'ORCA/Modula-2',\n",
       "       'Oriel', 'Orwell', 'Oxygene', 'Oz', 'P', 'P4', 'P′′', 'ParaSail ',\n",
       "       'PARI/GP', 'Pascal – ISO 7185', 'Pascal Script', 'PCASTL', 'PCF',\n",
       "       'PEARL', 'PeopleCode', 'Perl', 'PDL', 'Pharo', 'PHP', 'Pico',\n",
       "       'Picolisp', 'Pict', 'Pike', 'PILOT', 'Pipelines', 'Pizza', 'PL-11',\n",
       "       'PL/0', 'PL/B', 'PL/C', 'PL/I – ISO 6160', 'PL/M', 'PL/P',\n",
       "       'PL/SQL', 'PL360', 'PLANC', 'Plankalkül', 'Planner', 'PLEX',\n",
       "       'PLEXIL', 'Plus', 'POP-11', 'POP-2', 'PostScript', 'PortablE',\n",
       "       'POV-Ray SDL', 'Powerhouse',\n",
       "       'PowerBuilder – 4GL GUI application generator from Sybase',\n",
       "       'PowerShell', 'PPL', 'Processing', 'Processing.js', 'Prograph',\n",
       "       'PROIV', 'Project Verona', 'Prolog', 'PROMAL', 'Promela',\n",
       "       'PROSE modeling language', 'PROTEL', 'ProvideX', 'Pro*C', 'Pure',\n",
       "       'Pure Data', 'PureScript', 'Python', 'Q ', 'Q# ', 'Qalb',\n",
       "       'Quantum Computation Language', 'QtScript', 'QuakeC', 'QPL', '.QL',\n",
       "       'R', 'R++', 'Racket', 'Raku', 'RAPID', 'Rapira', 'Ratfiv',\n",
       "       'Ratfor', 'rc', 'Reason', 'REBOL', 'Red', 'Redcode', 'REFAL',\n",
       "       'REXX', 'Rlab', 'ROOP', 'RPG', 'RPL', 'RSL', 'RTL/2', 'Ruby',\n",
       "       'Rust', 'S', 'S2', 'S3', 'S-Lang', 'S-PLUS', 'SA-C', 'SabreTalk',\n",
       "       'SAIL', 'SAS', 'SASL', 'Sather', 'Sawzall', 'Scala', 'Scheme',\n",
       "       'Scilab', 'Scratch', 'Script.NET', 'Sed', 'Seed7', 'Self',\n",
       "       'SenseTalk', 'SequenceL', 'Serpent', 'SETL', 'SIMPOL', 'SIGNAL',\n",
       "       'SiMPLE', 'SIMSCRIPT', 'Simula', 'Simulink', 'Singularity',\n",
       "       'SISAL', 'SLIP', 'SMALL', 'Smalltalk', 'SML', 'Strongtalk',\n",
       "       'Snap!', 'SNOBOL ', 'Snowball', 'SOL', 'Solidity', 'SOPHAEROS',\n",
       "       'Source', 'SPARK', 'Speakeasy', 'Speedcode', 'SPIN', 'SP/k', 'SPS',\n",
       "       'SQL', 'SQR', 'Squeak', 'Squirrel', 'SR', 'S/SL', 'Starlogo',\n",
       "       'Strand', 'Stata', 'Stateflow', 'Subtext', 'SBL', 'SuperCollider',\n",
       "       'SuperTalk', 'Swift ', 'Swift ', 'SYMPL', 'SystemVerilog', 'T',\n",
       "       'TACL', 'TACPOL', 'TADS ', 'TAL', 'Tcl', 'Tea', 'TECO ', 'TELCOMP',\n",
       "       'TeX', 'TEX ', 'TIE', 'TMG ', 'Tom', 'Toi', 'Topspeed ', 'TPU ',\n",
       "       'Trac', 'TTM', 'T-SQL ', 'Transcript ', 'TTCN ', 'Turing',\n",
       "       'TUTOR ', 'TXL', 'TypeScript', 'Tynker', 'Ubercode', 'UCSD Pascal',\n",
       "       'Umple', 'Unicon', 'Uniface', 'UNITY', 'Unix shell',\n",
       "       'UnrealScript', 'Vala', 'Verilog', 'VHDL', 'Vim script', 'Viper ',\n",
       "       'Visual DataFlex', 'Visual DialogScript', 'Visual FoxPro',\n",
       "       'Visual J++ ', 'Visual LISP', 'Visual Objects', 'Visual Prolog',\n",
       "       'WATFIV, WATFOR ', 'WebAssembly', 'WebDNA', 'Whiley', 'Winbatch',\n",
       "       'Wolfram Language', 'Wyvern', 'X++ ', 'X10', 'xBase', 'xBase++ ',\n",
       "       'XBL', 'XC ', 'xHarbour', 'XL', 'Xojo', 'XOTcl', 'Xod', 'XPL',\n",
       "       'XPL0', 'XQuery', 'XSB', 'XSharp ', 'XSLT', 'Xtend', 'Yorick',\n",
       "       'YQL', 'Yoix', 'YUI', 'Z notation', 'Zebra, ZPL, ZPL2', 'Zeno',\n",
       "       'ZetaLisp', 'Zig', 'ZOPL', 'ZPL', 'Z++'], dtype=object)"
      ]
     },
     "execution_count": 18,
     "metadata": {},
     "output_type": "execute_result"
    }
   ],
   "source": [
    "df[\"fixed\"].values"
   ]
  },
  {
   "cell_type": "code",
   "execution_count": 20,
   "id": "automotive-diploma",
   "metadata": {},
   "outputs": [
    {
     "ename": "TypeError",
     "evalue": "\"delimiter\" must be a 1-character string",
     "output_type": "error",
     "traceback": [
      "\u001b[1;31m---------------------------------------------------------------------------\u001b[0m",
      "\u001b[1;31mTypeError\u001b[0m                                 Traceback (most recent call last)",
      "\u001b[1;32m<ipython-input-20-b559a8e3e4e5>\u001b[0m in \u001b[0;36m<module>\u001b[1;34m\u001b[0m\n\u001b[1;32m----> 1\u001b[1;33m \u001b[0mdf\u001b[0m\u001b[1;33m.\u001b[0m\u001b[0mto_csv\u001b[0m\u001b[1;33m(\u001b[0m\u001b[1;34m\"NFKD\"\u001b[0m\u001b[1;33m,\u001b[0m\u001b[1;34m\"data/fixed_langs.csv\"\u001b[0m\u001b[1;33m)\u001b[0m\u001b[1;33m\u001b[0m\u001b[1;33m\u001b[0m\u001b[0m\n\u001b[0m",
      "\u001b[1;32m~\\anaconda3\\envs\\scraper\\lib\\site-packages\\pandas\\core\\generic.py\u001b[0m in \u001b[0;36mto_csv\u001b[1;34m(self, path_or_buf, sep, na_rep, float_format, columns, header, index, index_label, mode, encoding, compression, quoting, quotechar, line_terminator, chunksize, date_format, doublequote, escapechar, decimal, errors, storage_options)\u001b[0m\n\u001b[0;32m   3400\u001b[0m             \u001b[0mdoublequote\u001b[0m\u001b[1;33m=\u001b[0m\u001b[0mdoublequote\u001b[0m\u001b[1;33m,\u001b[0m\u001b[1;33m\u001b[0m\u001b[1;33m\u001b[0m\u001b[0m\n\u001b[0;32m   3401\u001b[0m             \u001b[0mescapechar\u001b[0m\u001b[1;33m=\u001b[0m\u001b[0mescapechar\u001b[0m\u001b[1;33m,\u001b[0m\u001b[1;33m\u001b[0m\u001b[1;33m\u001b[0m\u001b[0m\n\u001b[1;32m-> 3402\u001b[1;33m             \u001b[0mstorage_options\u001b[0m\u001b[1;33m=\u001b[0m\u001b[0mstorage_options\u001b[0m\u001b[1;33m,\u001b[0m\u001b[1;33m\u001b[0m\u001b[1;33m\u001b[0m\u001b[0m\n\u001b[0m\u001b[0;32m   3403\u001b[0m         )\n\u001b[0;32m   3404\u001b[0m \u001b[1;33m\u001b[0m\u001b[0m\n",
      "\u001b[1;32m~\\anaconda3\\envs\\scraper\\lib\\site-packages\\pandas\\io\\formats\\format.py\u001b[0m in \u001b[0;36mto_csv\u001b[1;34m(self, path_or_buf, encoding, sep, columns, index_label, mode, compression, quoting, quotechar, line_terminator, chunksize, date_format, doublequote, escapechar, errors, storage_options)\u001b[0m\n\u001b[0;32m   1081\u001b[0m             \u001b[0mformatter\u001b[0m\u001b[1;33m=\u001b[0m\u001b[0mself\u001b[0m\u001b[1;33m.\u001b[0m\u001b[0mfmt\u001b[0m\u001b[1;33m,\u001b[0m\u001b[1;33m\u001b[0m\u001b[1;33m\u001b[0m\u001b[0m\n\u001b[0;32m   1082\u001b[0m         )\n\u001b[1;32m-> 1083\u001b[1;33m         \u001b[0mcsv_formatter\u001b[0m\u001b[1;33m.\u001b[0m\u001b[0msave\u001b[0m\u001b[1;33m(\u001b[0m\u001b[1;33m)\u001b[0m\u001b[1;33m\u001b[0m\u001b[1;33m\u001b[0m\u001b[0m\n\u001b[0m\u001b[0;32m   1084\u001b[0m \u001b[1;33m\u001b[0m\u001b[0m\n\u001b[0;32m   1085\u001b[0m         \u001b[1;32mif\u001b[0m \u001b[0mcreated_buffer\u001b[0m\u001b[1;33m:\u001b[0m\u001b[1;33m\u001b[0m\u001b[1;33m\u001b[0m\u001b[0m\n",
      "\u001b[1;32m~\\anaconda3\\envs\\scraper\\lib\\site-packages\\pandas\\io\\formats\\csvs.py\u001b[0m in \u001b[0;36msave\u001b[1;34m(self)\u001b[0m\n\u001b[0;32m    243\u001b[0m                 \u001b[0mdoublequote\u001b[0m\u001b[1;33m=\u001b[0m\u001b[0mself\u001b[0m\u001b[1;33m.\u001b[0m\u001b[0mdoublequote\u001b[0m\u001b[1;33m,\u001b[0m\u001b[1;33m\u001b[0m\u001b[1;33m\u001b[0m\u001b[0m\n\u001b[0;32m    244\u001b[0m                 \u001b[0mescapechar\u001b[0m\u001b[1;33m=\u001b[0m\u001b[0mself\u001b[0m\u001b[1;33m.\u001b[0m\u001b[0mescapechar\u001b[0m\u001b[1;33m,\u001b[0m\u001b[1;33m\u001b[0m\u001b[1;33m\u001b[0m\u001b[0m\n\u001b[1;32m--> 245\u001b[1;33m                 \u001b[0mquotechar\u001b[0m\u001b[1;33m=\u001b[0m\u001b[0mself\u001b[0m\u001b[1;33m.\u001b[0m\u001b[0mquotechar\u001b[0m\u001b[1;33m,\u001b[0m\u001b[1;33m\u001b[0m\u001b[1;33m\u001b[0m\u001b[0m\n\u001b[0m\u001b[0;32m    246\u001b[0m             )\n\u001b[0;32m    247\u001b[0m \u001b[1;33m\u001b[0m\u001b[0m\n",
      "\u001b[1;31mTypeError\u001b[0m: \"delimiter\" must be a 1-character string"
     ]
    }
   ],
   "source": [
    "df.to_csv(\"data/fixed_langs.csv\")"
   ]
  },
  {
   "cell_type": "code",
   "execution_count": null,
   "id": "rocky-hometown",
   "metadata": {},
   "outputs": [],
   "source": []
  }
 ],
 "metadata": {
  "kernelspec": {
   "display_name": "Python 3",
   "language": "python",
   "name": "python3"
  },
  "language_info": {
   "codemirror_mode": {
    "name": "ipython",
    "version": 3
   },
   "file_extension": ".py",
   "mimetype": "text/x-python",
   "name": "python",
   "nbconvert_exporter": "python",
   "pygments_lexer": "ipython3",
   "version": "3.7.10"
  }
 },
 "nbformat": 4,
 "nbformat_minor": 5
}
